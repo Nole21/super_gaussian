{
 "cells": [
  {
   "cell_type": "code",
   "execution_count": 11,
   "metadata": {},
   "outputs": [
    {
     "name": "stdout",
     "output_type": "stream",
     "text": [
      "(800, 800, 1)\n"
     ]
    }
   ],
   "source": [
    "import numpy as np\n",
    "from PIL import Image\n",
    "path = \"/Users/nole/Desktop/D-NeRF dataset/hellwarrior/train/r_000.png\"\n",
    "image = Image.open(path)\n",
    "im_data = np.array(image.convert(\"RGBA\"))\n",
    "norm_data = im_data / 255.0\n",
    "mask = norm_data[..., 3:4]\n",
    "print(mask.shape)"
   ]
  },
  {
   "cell_type": "code",
   "execution_count": 1,
   "metadata": {},
   "outputs": [],
   "source": [
    "import os\n",
    "import numpy as np\n",
    "from PIL import Image\n",
    "import math\n",
    "def readWaymoCameras(path, start_time, end_time, cameras):\n",
    "    cam_infos = []\n",
    "    ego_dir = os.path.join(path, \"ego_pose\")\n",
    "    extrinsic_dir = os.path.join(path, \"extrinsics\")\n",
    "    intrinsic_dir = os.path.join(path, \"intrinsics\")\n",
    "    image_dir = os.path.join(path, \"image\")\n",
    "\n",
    "    for t in range(start_time, end_time+1):\n",
    "        for cam in cameras:\n",
    "            ego = np.load(os.path.join(ego_dir, f\"{t:03d}.txt\"))\n",
    "            intrinsic = np.loadtxt(os.path.join(intrinsic_dir, f\"{cam}.txt\"))\n",
    "            extrinsic = np.load(os.path.join(extrinsic_dir, f\"{cam}.txt\"))\n",
    "            image_file = os.path.join(image_dir, f\"{t:03d}_{cam}.png\")\n",
    "            img = Image.open(image_file)\n",
    "            frame_time = (t - start_time) / (end_time - start_time)\n",
    "            fx, fy, cx, cy = intrinsic[0], intrinsic[1], intrinsic[2], intrinsic[3]\n",
    "            fovx = 2 * math.atan(cx / fx)\n",
    "            fovy = 2 * math.atan(cy / fy)\n",
    "            \n",
    "\n",
    "\n",
    "\n",
    "\n",
    "def readWaymoSceneInfo(path, start_time, end_time, cameras):\n",
    "    \"\"\"\n",
    "    Params:\n",
    "        path: including scene id\n",
    "    Returns:\n",
    "\n",
    "    \"\"\"\n",
    "    print(\"Reading Waymo data\")\n",
    "    train_cam_infos = readWaymoCameras(path, start_time, end_time, cameras)\n",
    "\n"
   ]
  },
  {
   "cell_type": "code",
   "execution_count": null,
   "metadata": {},
   "outputs": [],
   "source": []
  }
 ],
 "metadata": {
  "kernelspec": {
   "display_name": "Python 3",
   "language": "python",
   "name": "python3"
  },
  "language_info": {
   "codemirror_mode": {
    "name": "ipython",
    "version": 3
   },
   "file_extension": ".py",
   "mimetype": "text/x-python",
   "name": "python",
   "nbconvert_exporter": "python",
   "pygments_lexer": "ipython3",
   "version": "3.11.6"
  }
 },
 "nbformat": 4,
 "nbformat_minor": 2
}
